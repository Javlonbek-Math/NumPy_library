{
  "nbformat": 4,
  "nbformat_minor": 0,
  "metadata": {
    "colab": {
      "provenance": [],
      "authorship_tag": "ABX9TyNHzOY+cOFMRiKnR8Cdziq+",
      "include_colab_link": true
    },
    "kernelspec": {
      "name": "python3",
      "display_name": "Python 3"
    },
    "language_info": {
      "name": "python"
    }
  },
  "cells": [
    {
      "cell_type": "markdown",
      "metadata": {
        "id": "view-in-github",
        "colab_type": "text"
      },
      "source": [
        "<a href=\"https://colab.research.google.com/github/Javlonbek-Math/NumPy_library/blob/main/Creating_arrays.ipynb\" target=\"_parent\"><img src=\"https://colab.research.google.com/assets/colab-badge.svg\" alt=\"Open In Colab\"/></a>"
      ]
    },
    {
      "cell_type": "code",
      "execution_count": 5,
      "metadata": {
        "id": "QR7ZNvBXNP0N"
      },
      "outputs": [],
      "source": [
        "import numpy as np\n",
        "data1=[[[1,2,3],[1,4,5],[1,4,7]]]\n",
        "arr1=np.array(data1)"
      ]
    },
    {
      "cell_type": "code",
      "source": [
        "arr1.ndim"
      ],
      "metadata": {
        "colab": {
          "base_uri": "https://localhost:8080/"
        },
        "id": "_GrzJMkLNv49",
        "outputId": "52bd85d7-dac6-4307-a737-b0119fe56546"
      },
      "execution_count": 7,
      "outputs": [
        {
          "output_type": "execute_result",
          "data": {
            "text/plain": [
              "3"
            ]
          },
          "metadata": {},
          "execution_count": 7
        }
      ]
    },
    {
      "cell_type": "code",
      "source": [
        "arr2=np.random.randn(2,5) # this is for standard distribution\n",
        "arr2"
      ],
      "metadata": {
        "colab": {
          "base_uri": "https://localhost:8080/"
        },
        "id": "hoGNpvzNN205",
        "outputId": "d989a2f0-fb99-4787-9e4e-f59ce6112194"
      },
      "execution_count": 9,
      "outputs": [
        {
          "output_type": "execute_result",
          "data": {
            "text/plain": [
              "array([[ 0.16268256, -0.24442612, -1.68477791, -0.59559706,  0.15817013],\n",
              "       [ 0.34212282,  0.02441219,  0.16774357,  0.60549642, -0.67397372]])"
            ]
          },
          "metadata": {},
          "execution_count": 9
        }
      ]
    },
    {
      "cell_type": "code",
      "source": [
        "arr3=np.random.randint(5, size=(2,4)) # this generates dimension(2,4) randomly integers and maximum is 5\n",
        "arr3"
      ],
      "metadata": {
        "colab": {
          "base_uri": "https://localhost:8080/"
        },
        "id": "g5LlHH2MXCQg",
        "outputId": "dcb63264-c8e2-4dfb-da7c-4f1c8a25338f"
      },
      "execution_count": 13,
      "outputs": [
        {
          "output_type": "execute_result",
          "data": {
            "text/plain": [
              "array([[3, 4, 3, 3],\n",
              "       [4, 4, 0, 3]])"
            ]
          },
          "metadata": {},
          "execution_count": 13
        }
      ]
    }
  ]
}